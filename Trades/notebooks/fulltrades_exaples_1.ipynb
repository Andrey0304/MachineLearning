{
 "cells": [
  {
   "cell_type": "code",
   "execution_count": 521,
   "id": "b26cae69-2837-43df-af96-2bc85b910149",
   "metadata": {},
   "outputs": [],
   "source": [
    "import pandas as pd\n",
    "import numpy as np\n",
    "import json\n",
    "import warnings\n",
    "\n",
    "warnings.filterwarnings('ignore')\n",
    "\n",
    "data = pd.read_csv('/home/andrey/Desktop/full_statement.csv')"
   ]
  },
  {
   "cell_type": "code",
   "execution_count": 522,
   "id": "5ee35917-f0e8-4fb9-8666-defaaf61aea6",
   "metadata": {},
   "outputs": [],
   "source": [
    "base_currency = {\n",
    "    'USD': 1,\n",
    "    'AUD': 0.77135,\n",
    "    'GBP': 1.4112,\n",
    "    'EUR': 1.21212,\n",
    "    'NZD': 0.71454,\n",
    "    'CAD': 0.81,\n",
    "    'CHF': 1.09,\n",
    "    'JPY': 0.0090,\n",
    "    'HKD': 0.13\n",
    "}"
   ]
  },
  {
   "cell_type": "code",
   "execution_count": 523,
   "id": "f8f04b2a-3258-4dc0-900b-08fa41758273",
   "metadata": {},
   "outputs": [],
   "source": [
    "# with open('/home/andrey/Desktop/Features.json', 'w') as f:\n",
    "#     json.dump(features, f)"
   ]
  },
  {
   "cell_type": "code",
   "execution_count": 524,
   "id": "a555bc1e-5862-4cf5-855d-e34aadfb2950",
   "metadata": {},
   "outputs": [],
   "source": [
    "def data_separation(data):\n",
    "    all_data = {}\n",
    "    for names in ['Trades',\n",
    "                  'Interest',\n",
    "                  'Dividends',\n",
    "                  'Financial Instrument Information']:\n",
    "        if names in data.Statement.values:\n",
    "            d = data[data.Statement == names].reset_index(drop=True)\n",
    "            d.columns = d.iloc[0]\n",
    "            d = d[d.columns.dropna()]\n",
    "            all_data[names] = d\n",
    "            d.to_csv('/home/andrey/Desktop/full/'+names+'.csv', index=False)\n",
    "    return all_data\n",
    "\n",
    "all_data = data_separation(data)"
   ]
  },
  {
   "cell_type": "code",
   "execution_count": 525,
   "id": "f509c300-3908-4e38-b68e-7adf87086e14",
   "metadata": {},
   "outputs": [],
   "source": [
    "def preprocessing_of_trades(data):\n",
    "    data = data[data['DataDiscriminator'] == 'Order']\n",
    "    if 'Bonds' in data['Asset Category'].values:\n",
    "        data.Symbol[data['Asset Category'] == 'Bonds'] = data.Symbol[data['Asset Category'] == 'Bonds'].apply(lambda x: ' '.join(x.split(' ')[:-1]))\n",
    "    data['Quantity'] = data['Quantity'].apply(\n",
    "        lambda x: x.replace(',', '') if x is not np.nan else x).astype(float)\n",
    "    data[['Proceeds', 'T. Price']] = data[['Proceeds', 'T. Price']].astype(float)\n",
    "#     data['Date/Time'] = data['Date/Time'].astype('datetime64[ns]')\n",
    "#     data = data.sort_values(['Symbol', 'Date/Time'])\n",
    "    data.to_csv('/home/andrey/Desktop/full/preprocess_trades.csv', index=False)\n",
    "    return data\n",
    "\n",
    "data_preprocess = preprocessing_of_trades(all_data['Trades'])"
   ]
  },
  {
   "cell_type": "code",
   "execution_count": 526,
   "id": "b38d53b4",
   "metadata": {
    "scrolled": true,
    "tags": []
   },
   "outputs": [],
   "source": [
    "def multiplier_comparison(df):\n",
    "    index = df[df.Header == 'Header'].index.append(pd.Index([df.shape[0]]))\n",
    "\n",
    "    j = index[0]\n",
    "    multiplier = {}\n",
    "    for i in index[1:]:\n",
    "        d = df.loc[j:i - 1].reset_index(drop=True)\n",
    "        d.columns = d.iloc[0]\n",
    "        d.drop(index=0, inplace=True)\n",
    "        d = d.reset_index(drop=True)\n",
    "        d['Multiplier'] = d['Multiplier'].apply(\n",
    "            lambda x: x.replace(',', '')).astype(float)\n",
    "        if d['Asset Category'][0] in ['Stocks', 'Futures', 'Bonds']:\n",
    "            multiplier[d['Asset Category'][0]] = d[['Symbol', 'Multiplier']]\n",
    "        else:\n",
    "            multiplier[d['Asset Category'][0]] = d[['Description', 'Multiplier']].rename(\n",
    "                columns={'Description': 'Symbol'})\n",
    "        j = i\n",
    "    return multiplier\n",
    "\n",
    "financial_instrument = all_data['Financial Instrument Information']\n",
    "multiplier = multiplier_comparison(financial_instrument)"
   ]
  },
  {
   "cell_type": "code",
   "execution_count": 527,
   "id": "ea4d490d-401b-4125-b50a-48c41bbb5cb3",
   "metadata": {},
   "outputs": [],
   "source": [
    "def preprocessing_of_trades(data):\n",
    "    data = data[data['DataDiscriminator'] == 'Order']\n",
    "    if 'Bonds' in data['Asset Category'].values:\n",
    "        data.Symbol[data['Asset Category'] == 'Bonds'] = data.Symbol[data['Asset Category'] == 'Bonds'].apply(lambda x: ' '.join(x.split(' ')[:-1]))\n",
    "    data['Quantity'] = data['Quantity'].apply(\n",
    "        lambda x: x.replace(',', '') if x is not np.nan else x).astype(float)\n",
    "    data[['Proceeds', 'T. Price']] = data[['Proceeds', 'T. Price']].astype(float)\n",
    "#     data['Date/Time'] = data['Date/Time'].astype('datetime64[ns]')\n",
    "#     data = data.sort_values(['Symbol', 'Date/Time'])\n",
    "    data.to_csv('/home/andrey/Desktop/full/preprocess_trades.csv', index=False)\n",
    "    return data\n",
    "\n",
    "data_preprocess = preprocessing_of_trades(all_data['Trades'])"
   ]
  },
  {
   "cell_type": "code",
   "execution_count": 528,
   "id": "765aefdb-409d-4116-81da-9eccb613d997",
   "metadata": {},
   "outputs": [],
   "source": [
    "def signum(num):\n",
    "    return -1 if num<0 else 1"
   ]
  },
  {
   "cell_type": "code",
   "execution_count": 534,
   "id": "b3ffe870-b95c-4008-b0eb-3575d600f8a7",
   "metadata": {},
   "outputs": [],
   "source": [
    "def matching_trades(data, multiplier, base_currency):\n",
    "    d = {}\n",
    "    count = 0\n",
    "    predict = pd.DataFrame(\n",
    "        columns=['Instrument',\n",
    "                 'Currency',\n",
    "                 'Result',\n",
    "                 'Quantity',\n",
    "                 'EntryDt',\n",
    "                 'Entry',\n",
    "                 'Closure Dt',\n",
    "                 'Closure',\n",
    "                 'Result in BC',\n",
    "                 'Multiplier',\n",
    "                 'Type']\n",
    "    )\n",
    "    for i in data.index:\n",
    "        instrument = data.Symbol[i]\n",
    "        quantity = data.Quantity[i]\n",
    "        price = data['T. Price'][i]\n",
    "        if instrument not in d:\n",
    "            category = data['Asset Category'][i]\n",
    "            d[instrument] = {'Instrument': instrument,\n",
    "                             'Currency': data['Currency'][i],\n",
    "                             'Result': None,\n",
    "                             'Quantity': None,\n",
    "                             'EntryDt': data['Date/Time'][i],\n",
    "                             'Entry': price,\n",
    "                             'Closure Dt': None,\n",
    "                             'Closure': None,\n",
    "                             'Result in BC': None,\n",
    "                             'Multiplier': multiplier[category][\n",
    "                                 multiplier[category][\n",
    "                                     'Symbol'] == instrument].Multiplier.item() if category in multiplier.keys() else 1,\n",
    "                             'Type': category}\n",
    "\n",
    "            sign = signum(data.Quantity[i])\n",
    "            count = quantity\n",
    "        elif signum(quantity) * count < 0:\n",
    "            d[instrument]['Closure Dt'] = data['Date/Time'][i]\n",
    "            d[instrument]['Quantity'] = -quantity\n",
    "            d[instrument]['Closure'] = price\n",
    "            d[instrument]['Result'] = np.abs(quantity) * (\n",
    "                    d[instrument]['Closure'] - d[instrument]['Entry']) * d[instrument]['Multiplier']\n",
    "            d[instrument]['Result in BC'] = d[instrument]['Result'] * base_currency[d[instrument]['Currency']]\n",
    "            predict = predict.append(pd.Series(d[instrument].values(), index=predict.columns),\n",
    "            ignore_index=True)\n",
    "            count += quantity\n",
    "        else:\n",
    "            d[instrument]['Entry'] = (count * d[instrument]['Entry'] + quantity * price) / (count + quantity)\n",
    "            count += quantity\n",
    "\n",
    "    return predict"
   ]
  },
  {
   "cell_type": "code",
   "execution_count": 535,
   "id": "f6ff59c6-c4a6-4d69-937d-9d022b3744ba",
   "metadata": {},
   "outputs": [],
   "source": [
    "result = matching_trades(data_preprocess, multiplier, base_currency)\n",
    "result.to_csv('/home/andrey/Desktop/matching_trades.csv', index=False)"
   ]
  }
 ],
 "metadata": {
  "kernelspec": {
   "display_name": "Python 3",
   "language": "python",
   "name": "python3"
  },
  "language_info": {
   "codemirror_mode": {
    "name": "ipython",
    "version": 3
   },
   "file_extension": ".py",
   "mimetype": "text/x-python",
   "name": "python",
   "nbconvert_exporter": "python",
   "pygments_lexer": "ipython3",
   "version": "3.8.5"
  }
 },
 "nbformat": 4,
 "nbformat_minor": 5
}
